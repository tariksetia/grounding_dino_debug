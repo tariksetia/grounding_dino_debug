{
 "cells": [
  {
   "cell_type": "code",
   "execution_count": 9,
   "metadata": {},
   "outputs": [
    {
     "name": "stderr",
     "output_type": "stream",
     "text": [
      "huggingface/tokenizers: The current process just got forked, after parallelism has already been used. Disabling parallelism to avoid deadlocks...\n",
      "To disable this warning, you can either:\n",
      "\t- Avoid using `tokenizers` before the fork if possible\n",
      "\t- Explicitly set the environment variable TOKENIZERS_PARALLELISM=(true | false)\n",
      "huggingface/tokenizers: The current process just got forked, after parallelism has already been used. Disabling parallelism to avoid deadlocks...\n",
      "To disable this warning, you can either:\n",
      "\t- Avoid using `tokenizers` before the fork if possible\n",
      "\t- Explicitly set the environment variable TOKENIZERS_PARALLELISM=(true | false)\n",
      "huggingface/tokenizers: The current process just got forked, after parallelism has already been used. Disabling parallelism to avoid deadlocks...\n",
      "To disable this warning, you can either:\n",
      "\t- Avoid using `tokenizers` before the fork if possible\n",
      "\t- Explicitly set the environment variable TOKENIZERS_PARALLELISM=(true | false)\n"
     ]
    },
    {
     "name": "stdout",
     "output_type": "stream",
     "text": [
      "Requirement already satisfied: opencv-python in ./.venv/lib/python3.10/site-packages (4.9.0.80)\n",
      "Requirement already satisfied: pillow in ./.venv/lib/python3.10/site-packages (10.3.0)\n",
      "Requirement already satisfied: numpy>=1.21.2 in ./.venv/lib/python3.10/site-packages (from opencv-python) (1.26.4)\n"
     ]
    },
    {
     "name": "stderr",
     "output_type": "stream",
     "text": [
      "huggingface/tokenizers: The current process just got forked, after parallelism has already been used. Disabling parallelism to avoid deadlocks...\n",
      "To disable this warning, you can either:\n",
      "\t- Avoid using `tokenizers` before the fork if possible\n",
      "\t- Explicitly set the environment variable TOKENIZERS_PARALLELISM=(true | false)\n"
     ]
    }
   ],
   "source": [
    "!pip install -q git+https://github.com/IDEA-Research/GroundingDINO.git\n",
    "!pip install -q git+https://github.com/huggingface/transformers.git\n",
    "!pip install opencv-python pillow\n",
    "!pip install -q fastapi[all]"
   ]
  },
  {
   "cell_type": "code",
   "execution_count": 1,
   "metadata": {},
   "outputs": [],
   "source": [
    "import cv2\n",
    "from PIL import Image\n",
    "import supervision as sv\n",
    "\n",
    "\n",
    "def read_video_frames(video_path, frame_indices: list[int]):\n",
    "    frames = {}\n",
    "    cap = cv2.VideoCapture(video_path)\n",
    "    if not cap.isOpened():\n",
    "        raise Exception(\"Error Opening Stream @ {video_path}\")\n",
    "\n",
    "    frame_id = 0\n",
    "    max_index = sorted(frame_indices)[-1]\n",
    "    while cap.isOpened():\n",
    "        _, frame = cap.read()\n",
    "        if frame is None or frame_id > max_index:\n",
    "            # No more frames. Recognition done.\n",
    "            break\n",
    "\n",
    "        if frame_id in frame_indices:\n",
    "            frames[frame_id] = frame\n",
    "\n",
    "        frame_id += 1\n",
    "\n",
    "    cap.release()\n",
    "    cv2.destroyAllWindows()\n",
    "     \n",
    "    return frames\n",
    "\n",
    "def save_annotation(image, detections, labels, f_path):\n",
    "    box_annotator = sv.BoxAnnotator()\n",
    "    annotated_image = box_annotator.annotate(scene=image, detections=detections, labels=labels)\n",
    "    cv2.imwrite(f_path, annotated_image)"
   ]
  },
  {
   "cell_type": "markdown",
   "metadata": {},
   "source": [
    "### Run as script"
   ]
  },
  {
   "cell_type": "markdown",
   "metadata": {},
   "source": [
    "#### From Repo\n",
    "\n",
    "Every Face is detected\n",
    "\n",
    "Files are saved in bboxes/script-*.jpg"
   ]
  },
  {
   "cell_type": "code",
   "execution_count": 6,
   "metadata": {},
   "outputs": [
    {
     "name": "stdout",
     "output_type": "stream",
     "text": [
      "final text_encoder_type: bert-base-uncased\n"
     ]
    },
    {
     "name": "stderr",
     "output_type": "stream",
     "text": [
      "FutureWarning: The `device` argument is deprecated and will be removed in v5 of Transformers.\n",
      "UserWarning: torch.utils.checkpoint: please pass in use_reentrant=True or use_reentrant=False explicitly. The default value of use_reentrant will be updated to be False in the future. To maintain current behavior, pass use_reentrant=True. It is recommended that you use use_reentrant=False. Refer to docs for more details on the differences between the two variants.\n",
      "UserWarning: None of the inputs have requires_grad=True. Gradients will be None\n"
     ]
    },
    {
     "name": "stdout",
     "output_type": "stream",
     "text": [
      "{\n",
      "  \"4\": [],\n",
      "  \"10\": [\n",
      "    [\n",
      "      595.7476196289062,\n",
      "      210.34384155273438,\n",
      "      664.7664184570312,\n",
      "      310.4613952636719\n",
      "    ]\n",
      "  ],\n",
      "  \"32\": [\n",
      "    [\n",
      "      503.5018310546875,\n",
      "      118.34725952148438,\n",
      "      739.0670166015625,\n",
      "      452.6176452636719\n",
      "    ]\n",
      "  ]\n",
      "}\n"
     ]
    },
    {
     "name": "stderr",
     "output_type": "stream",
     "text": [
      "SupervisionWarnings: BoxAnnotator is deprecated: `BoxAnnotator` is deprecated and will be removed in `supervision-0.22.0`. Use `BoundingBoxAnnotator` and `LabelAnnotator` instead\n",
      "SupervisionWarnings: BoxAnnotator is deprecated: `BoxAnnotator` is deprecated and will be removed in `supervision-0.22.0`. Use `BoundingBoxAnnotator` and `LabelAnnotator` instead\n",
      "SupervisionWarnings: BoxAnnotator is deprecated: `BoxAnnotator` is deprecated and will be removed in `supervision-0.22.0`. Use `BoundingBoxAnnotator` and `LabelAnnotator` instead\n"
     ]
    }
   ],
   "source": [
    "from cProfile import label\n",
    "import json\n",
    "from groundingdino.util.inference import Model\n",
    "from utils import read_video_frames, save_annotation\n",
    "\n",
    "TEXT_PROMPT = \"Faces.\"\n",
    "\n",
    "model = Model(\"./grounding_dino/config/GroundingDINO_SwinT_OGC.py\", \"./grounding_dino/weights/groundingdino_swint_ogc.pth\", device=\"cpu\")\n",
    "\n",
    "\n",
    "frames = read_video_frames(\"video.mp4\", [4,10,32])\n",
    "\n",
    "predictions = {\n",
    "    k: model.predict_with_caption(v, TEXT_PROMPT)\n",
    "    for k,v in frames.items()\n",
    "}\n",
    "\n",
    "bboxes = {\n",
    "    k: v[0].xyxy.tolist()\n",
    "    for k,v in predictions.items()\n",
    "}\n",
    "\n",
    "\n",
    "for frame_id, result in predictions.items():\n",
    "    detections, labels = result\n",
    "    f_path = f\"bboxes/script-{frame_id}.jpg\"\n",
    "    save_annotation(frames[frame_id], detections, labels, f_path)\n",
    "\n",
    "print(json.dumps(bboxes, indent=2))"
   ]
  },
  {
   "cell_type": "markdown",
   "metadata": {},
   "source": [
    "#### From huggingface\n",
    "Nothing is detected\n",
    "\n",
    "The code block is copied from: https://huggingface.co/IDEA-Research/grounding-dino-tiny"
   ]
  },
  {
   "cell_type": "code",
   "execution_count": 7,
   "metadata": {},
   "outputs": [
    {
     "data": {
      "text/plain": [
       "{4: [{'scores': tensor([]), 'labels': [], 'boxes': tensor([], size=(0, 4))}],\n",
       " 10: [{'scores': tensor([]), 'labels': [], 'boxes': tensor([], size=(0, 4))}],\n",
       " 32: [{'scores': tensor([]), 'labels': [], 'boxes': tensor([], size=(0, 4))}]}"
      ]
     },
     "execution_count": 7,
     "metadata": {},
     "output_type": "execute_result"
    }
   ],
   "source": [
    "\n",
    "import torch\n",
    "from transformers import AutoProcessor, GroundingDinoForObjectDetection\n",
    "\n",
    "\n",
    "model_id = \"IDEA-Research/grounding-dino-tiny\"\n",
    "device=\"cpu\"\n",
    "processor = AutoProcessor.from_pretrained(model_id)\n",
    "model = GroundingDinoForObjectDetection.from_pretrained(model_id).to(device)\n",
    "\n",
    "frames = read_video_frames(\"video.mp4\", [4,10,32])\n",
    "frames = {\n",
    "    k:Image.fromarray(v)\n",
    "    for k,v in frames.items()\n",
    "}\n",
    "# Check for cats and remote controls\n",
    "text = \"Faces.\"\n",
    "\n",
    "dets = {}\n",
    "for idx, image in frames.items():\n",
    "    inputs = processor(images=image, text=text, return_tensors=\"pt\").to(device)\n",
    "    with torch.no_grad():\n",
    "        outputs = model(**inputs)\n",
    "\n",
    "    results = processor.post_process_grounded_object_detection(\n",
    "        outputs,\n",
    "        inputs.input_ids,\n",
    "        box_threshold=0.4,\n",
    "        text_threshold=0.3,\n",
    "        target_sizes=[image.size[::-1]]\n",
    "    )\n",
    "    dets[idx] = results\n",
    "\n",
    "dets"
   ]
  },
  {
   "cell_type": "markdown",
   "metadata": {},
   "source": []
  },
  {
   "cell_type": "code",
   "execution_count": null,
   "metadata": {},
   "outputs": [],
   "source": []
  }
 ],
 "metadata": {
  "kernelspec": {
   "display_name": ".venv",
   "language": "python",
   "name": "python3"
  },
  "language_info": {
   "codemirror_mode": {
    "name": "ipython",
    "version": 3
   },
   "file_extension": ".py",
   "mimetype": "text/x-python",
   "name": "python",
   "nbconvert_exporter": "python",
   "pygments_lexer": "ipython3",
   "version": "3.10.11"
  }
 },
 "nbformat": 4,
 "nbformat_minor": 2
}
